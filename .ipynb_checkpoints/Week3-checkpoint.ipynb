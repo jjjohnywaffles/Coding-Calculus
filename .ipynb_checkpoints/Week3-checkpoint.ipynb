{
 "cells": [
  {
   "cell_type": "markdown",
   "id": "040e3a6c-917c-416d-98a9-b081c2e97757",
   "metadata": {},
   "source": [
    "# Jonathan Hu\n",
    "# Week 3 Assignment"
   ]
  },
  {
   "cell_type": "markdown",
   "id": "a1512d95-9a4b-418b-a317-1642c63de395",
   "metadata": {},
   "source": [
    "# 1. Pg. 151 #1 a)"
   ]
  },
  {
   "cell_type": "code",
   "execution_count": 6,
   "id": "c787de3d-9c28-46d0-a124-e791333cfb1d",
   "metadata": {},
   "outputs": [
    {
     "data": {
      "text/plain": [
       "-3.9999960000001167"
      ]
     },
     "execution_count": 6,
     "metadata": {},
     "output_type": "execute_result"
    }
   ],
   "source": [
    "# Specific h for the window size Δx = 0.002. 0.002/2\n",
    "h_window = 0.001\n",
    "\n",
    "# Calculating the derivative estimate at x = 1 for f(x) = x^4 - 8x using h = 0.001\n",
    "derivative_estimate_1a = (f_a(1 + h_window) - f_a(1 - h_window)) / (2 * h_window)\n",
    "derivative_estimate_1a"
   ]
  },
  {
   "cell_type": "markdown",
   "id": "922ea84e-f144-42a6-88be-0b55da433874",
   "metadata": {},
   "source": [
    "# 2. #10 Pg. 118/119"
   ]
  },
  {
   "cell_type": "markdown",
   "id": "5bc9fec9-ce3b-49a5-8c4b-b5eb5988b5eb",
   "metadata": {},
   "source": [
    "a) False. The fact that the derivative g′(t) is positive for all t indicates that the function g(t) is increasing. However, this does not provide information about the sign of g(t) at any specific t value. For example, if g(t)=t−215, then g′(t)=1>0 for all t, but g(214)=−1, which is negative.\n",
    "\n",
    "b) True. If the derivative g′(t) is positive for all t, it means the function g(t) is increasing. Therefore, if t2>t1, then g(t2)>g(t1). Hence, g(214)>g(17).\n",
    "\n",
    "c) True. If both are traveling at the same speed throughout the journey, the initial distance between them remains constant. Since Samantha starts 1 mile ahead, she remains 1 mile ahead throughout, including after 20 minutes.\n",
    "\n",
    "d) True. This statement is the mean value theorem, which states that if a function is continuous on a closed interval and differentiable on the open interval, then there is at least one point in the open interval where the derivative of the function equals the average rate of change over the entire interval. Since both start and end at the same points at the same times, their average speeds over the interval are the same, implying there must be at least one moment when their instantaneous speeds were equal."
   ]
  },
  {
   "cell_type": "markdown",
   "id": "509affa1-6e60-4be4-96d2-13242e621c93",
   "metadata": {},
   "source": [
    "# 3. Pg. 151 #2 a) b) c) d)"
   ]
  },
  {
   "cell_type": "code",
   "execution_count": 1,
   "id": "883523e4-d0aa-4b80-8367-93cddaccc422",
   "metadata": {},
   "outputs": [
    {
     "data": {
      "text/plain": [
       "[-3.9600000000000035,\n",
       " -3.999599999999992,\n",
       " -3.9999960000001167,\n",
       " -3.9999999600004443]"
      ]
     },
     "execution_count": 1,
     "metadata": {},
     "output_type": "execute_result"
    }
   ],
   "source": [
    "# Part (a)\n",
    "\n",
    "def f_a(x):\n",
    "    return x**4 - 8*x\n",
    "\n",
    "x_a = 1\n",
    "hs_a = [0.1, 0.01, 0.001, 0.0001]\n",
    "\n",
    "# Derivative estimates\n",
    "estimates_a = [(f_a(x_a + h) - f_a(x_a - h)) / (2 * h) for h in hs_a]\n",
    "estimates_a"
   ]
  },
  {
   "cell_type": "code",
   "execution_count": 3,
   "id": "569b49cc-de83-4680-9b74-27eea4ab8bc6",
   "metadata": {},
   "outputs": [
    {
     "data": {
      "text/plain": [
       "[1.100823570965711, 1.098634388284142, 1.0986125096629218, 1.0986122908784868]"
      ]
     },
     "execution_count": 3,
     "metadata": {},
     "output_type": "execute_result"
    }
   ],
   "source": [
    "# Part (b)\n",
    "\n",
    "import numpy as np\n",
    "def h_b(s):\n",
    "    return 3**s\n",
    "\n",
    "s_b = 0\n",
    "\n",
    "# Derivative estimates\n",
    "estimates_b = [(h_b(s_b + h) - h_b(s_b - h)) / (2 * h) for h in hs_a]\n",
    "estimates_b"
   ]
  },
  {
   "cell_type": "code",
   "execution_count": 4,
   "id": "c513a59e-76a3-4783-9fc8-89b4f889034f",
   "metadata": {},
   "outputs": [
    {
     "data": {
      "text/plain": [
       "[0.7059288589999418, 0.7070949961324569, 0.7071066633353995, 0.70710678000796]"
      ]
     },
     "execution_count": 4,
     "metadata": {},
     "output_type": "execute_result"
    }
   ],
   "source": [
    "# Part (c)\n",
    "def w_c(z):\n",
    "    return np.sin(z)\n",
    "\n",
    "z_c = np.pi / 4\n",
    "\n",
    "# Derivative estimates\n",
    "estimates_c = [(w_c(z_c + h) - w_c(z_c - h)) / (2 * h) for h in hs_a]\n",
    "estimates_c"
   ]
  },
  {
   "cell_type": "code",
   "execution_count": 5,
   "id": "cf6c73da-4e97-49ee-bcf5-414566fd7195",
   "metadata": {},
   "outputs": [
    {
     "data": {
      "text/plain": [
       "[0.9945804503515809, 0.9945847442891509, 0.9945847872185887, 0.994584787643582]"
      ]
     },
     "execution_count": 5,
     "metadata": {},
     "output_type": "execute_result"
    }
   ],
   "source": [
    "# Part (d)\n",
    "def y_d(t):\n",
    "    return t + 2**(-t)\n",
    "\n",
    "t_d = 7\n",
    "\n",
    "# Derivative estimates\n",
    "estimates_d = [(y_d(t_d + h) - y_d(t_d - h)) / (2 * h) for h in hs_a]\n",
    "estimates_d"
   ]
  },
  {
   "cell_type": "markdown",
   "id": "c859c01b-3c56-44bd-9973-ddab028e3354",
   "metadata": {},
   "source": [
    "# 4. Pg 131 #3"
   ]
  },
  {
   "cell_type": "code",
   "execution_count": 8,
   "id": "79499f76-49ee-49f8-af50-91e12aa0eca9",
   "metadata": {},
   "outputs": [
    {
     "data": {
      "text/html": [
       "<div>\n",
       "<style scoped>\n",
       "    .dataframe tbody tr th:only-of-type {\n",
       "        vertical-align: middle;\n",
       "    }\n",
       "\n",
       "    .dataframe tbody tr th {\n",
       "        vertical-align: top;\n",
       "    }\n",
       "\n",
       "    .dataframe thead th {\n",
       "        text-align: right;\n",
       "    }\n",
       "</style>\n",
       "<table border=\"1\" class=\"dataframe\">\n",
       "  <thead>\n",
       "    <tr style=\"text-align: right;\">\n",
       "      <th></th>\n",
       "      <th>h</th>\n",
       "      <th>Q1</th>\n",
       "      <th>Q2</th>\n",
       "    </tr>\n",
       "  </thead>\n",
       "  <tbody>\n",
       "    <tr>\n",
       "      <th>0</th>\n",
       "      <td>1.000000</td>\n",
       "      <td>4.000000</td>\n",
       "      <td>7.000000</td>\n",
       "    </tr>\n",
       "    <tr>\n",
       "      <th>1</th>\n",
       "      <td>0.500000</td>\n",
       "      <td>3.250000</td>\n",
       "      <td>4.750000</td>\n",
       "    </tr>\n",
       "    <tr>\n",
       "      <th>2</th>\n",
       "      <td>0.250000</td>\n",
       "      <td>3.062500</td>\n",
       "      <td>3.812500</td>\n",
       "    </tr>\n",
       "    <tr>\n",
       "      <th>3</th>\n",
       "      <td>0.125000</td>\n",
       "      <td>3.015625</td>\n",
       "      <td>3.390625</td>\n",
       "    </tr>\n",
       "    <tr>\n",
       "      <th>4</th>\n",
       "      <td>0.062500</td>\n",
       "      <td>3.003906</td>\n",
       "      <td>3.191406</td>\n",
       "    </tr>\n",
       "    <tr>\n",
       "      <th>5</th>\n",
       "      <td>0.031250</td>\n",
       "      <td>3.000977</td>\n",
       "      <td>3.094727</td>\n",
       "    </tr>\n",
       "    <tr>\n",
       "      <th>6</th>\n",
       "      <td>0.015625</td>\n",
       "      <td>3.000244</td>\n",
       "      <td>3.047119</td>\n",
       "    </tr>\n",
       "    <tr>\n",
       "      <th>7</th>\n",
       "      <td>0.007812</td>\n",
       "      <td>3.000061</td>\n",
       "      <td>3.023499</td>\n",
       "    </tr>\n",
       "    <tr>\n",
       "      <th>8</th>\n",
       "      <td>0.003906</td>\n",
       "      <td>3.000015</td>\n",
       "      <td>3.011734</td>\n",
       "    </tr>\n",
       "  </tbody>\n",
       "</table>\n",
       "</div>"
      ],
      "text/plain": [
       "          h        Q1        Q2\n",
       "0  1.000000  4.000000  7.000000\n",
       "1  0.500000  3.250000  4.750000\n",
       "2  0.250000  3.062500  3.812500\n",
       "3  0.125000  3.015625  3.390625\n",
       "4  0.062500  3.003906  3.191406\n",
       "5  0.031250  3.000977  3.094727\n",
       "6  0.015625  3.000244  3.047119\n",
       "7  0.007812  3.000061  3.023499\n",
       "8  0.003906  3.000015  3.011734"
      ]
     },
     "execution_count": 8,
     "metadata": {},
     "output_type": "execute_result"
    }
   ],
   "source": [
    "# Part (a)\n",
    "\n",
    "# f(x) = x^3\n",
    "def f(x):\n",
    "    return x**3\n",
    "\n",
    "# Values of a and k range\n",
    "a = 1\n",
    "k_values = range(9)\n",
    "\n",
    "h_values = []\n",
    "Q1_values = []\n",
    "Q2_values = []\n",
    "\n",
    "# Calculate Q1 and Q2 for each k\n",
    "for k in k_values:\n",
    "    h = 1 / 2**k\n",
    "    Q1 = (f(a + h) - f(a - h)) / (2 * h)\n",
    "    Q2 = (f(a + h) - f(a)) / h\n",
    "    \n",
    "    h_values.append(h)\n",
    "    Q1_values.append(Q1)\n",
    "    Q2_values.append(Q2)\n",
    "\n",
    "import pandas as pd\n",
    "results_table = pd.DataFrame({\n",
    "    'h': h_values,\n",
    "    'Q1': Q1_values,\n",
    "    'Q2': Q2_values\n",
    "})\n",
    "results_table"
   ]
  },
  {
   "cell_type": "markdown",
   "id": "ada2e5c5-0f43-4675-918a-c91e0364450a",
   "metadata": {},
   "source": [
    "# #3 (b)\n",
    "For Q1, the values stabilize to three decimal places by h=0.015625. From this point onward, Q1 consistently shows a value of approximately 3.000 up to three decimal places. In contrast, Q2 takes longer to stabilize. It reaches three decimal places of accuracy only at h=0.00390625, where it is approximately 3.012. Thus, Q2 does not reach a consistent three-decimal place approximation within the h values provided in the table, stabilizing at no decimal places as it never consistently reaches 3.000.\n",
    "\n",
    "# #3 (c)\n",
    "Q1 is the better estimator for the derivative compared to Q2. It converges faster and more accurately to the true derivative value of 3. As stated in the previous question, Q1 achieves an accuracy of three decimal places by h=0.015625. On the other hand, Q2 only approaches a similar level of precision to Q1's earlier estimate when h=0.015625, showing a value of about 3.047. This shows that Q1, even at larger values of h, provides estimates that are as close as Q2's \"best efforts\" at the same h level."
   ]
  },
  {
   "cell_type": "markdown",
   "id": "78813ce3-558d-4f8f-87f7-dfdf2596a4a5",
   "metadata": {},
   "source": [
    "# #3 (d)\n",
    "The graph shows that Q1 converges to the true derivative value of 3 much faster than Q2. This rapid convergence of Q1 is evident as its plot quickly flattens out and stabilizes at the exact derivative value as h decreases. In contrast, Q2’s line remains steep and deviates significantly from the exact value, especially at larger h values."
   ]
  },
  {
   "cell_type": "code",
   "execution_count": 10,
   "id": "d27888d5-9e11-413f-bfe0-c7a53b0fad10",
   "metadata": {},
   "outputs": [
    {
     "data": {
      "image/png": "[encoded data removed]",
      "text/plain": [
       "<Figure size 1000x600 with 1 Axes>"
      ]
     },
     "metadata": {},
     "output_type": "display_data"
    }
   ],
   "source": [
    "import matplotlib.pyplot as plt\n",
    "\n",
    "plt.figure(figsize=(10, 6))\n",
    "plt.plot(h_values, Q1_values, label='Q1', marker='o')\n",
    "plt.plot(h_values, Q2_values, label='Q2', marker='x')\n",
    "plt.xscale('log')\n",
    "plt.yscale('log')\n",
    "plt.xlabel('h (log scale)')\n",
    "plt.ylabel('Estimate Value (log scale)')\n",
    "plt.title('Estimates Q1 and Q2 vs. h')\n",
    "plt.legend()\n",
    "plt.grid(True)\n",
    "plt.show()"
   ]
  },
  {
   "cell_type": "markdown",
   "id": "313490e6-7954-41ef-912e-af250c6e5711",
   "metadata": {},
   "source": [
    "# 5. Pg 131 #4"
   ]
  },
  {
   "cell_type": "code",
   "execution_count": 4,
   "id": "8fa59ab8-5b7d-4d61-8041-b4a03df9ed10",
   "metadata": {},
   "outputs": [
    {
     "data": {
      "text/html": [
       "<div>\n",
       "<style scoped>\n",
       "    .dataframe tbody tr th:only-of-type {\n",
       "        vertical-align: middle;\n",
       "    }\n",
       "\n",
       "    .dataframe tbody tr th {\n",
       "        vertical-align: top;\n",
       "    }\n",
       "\n",
       "    .dataframe thead th {\n",
       "        text-align: right;\n",
       "    }\n",
       "</style>\n",
       "<table border=\"1\" class=\"dataframe\">\n",
       "  <thead>\n",
       "    <tr style=\"text-align: right;\">\n",
       "      <th></th>\n",
       "      <th>h</th>\n",
       "      <th>Q1</th>\n",
       "      <th>Q2</th>\n",
       "    </tr>\n",
       "  </thead>\n",
       "  <tbody>\n",
       "    <tr>\n",
       "      <th>0</th>\n",
       "      <td>1.000000</td>\n",
       "      <td>0.166925</td>\n",
       "      <td>0.162278</td>\n",
       "    </tr>\n",
       "    <tr>\n",
       "      <th>1</th>\n",
       "      <td>0.500000</td>\n",
       "      <td>0.166731</td>\n",
       "      <td>0.164414</td>\n",
       "    </tr>\n",
       "    <tr>\n",
       "      <th>2</th>\n",
       "      <td>0.250000</td>\n",
       "      <td>0.166683</td>\n",
       "      <td>0.165525</td>\n",
       "    </tr>\n",
       "    <tr>\n",
       "      <th>3</th>\n",
       "      <td>0.125000</td>\n",
       "      <td>0.166671</td>\n",
       "      <td>0.166092</td>\n",
       "    </tr>\n",
       "    <tr>\n",
       "      <th>4</th>\n",
       "      <td>0.062500</td>\n",
       "      <td>0.166668</td>\n",
       "      <td>0.166378</td>\n",
       "    </tr>\n",
       "    <tr>\n",
       "      <th>5</th>\n",
       "      <td>0.031250</td>\n",
       "      <td>0.166667</td>\n",
       "      <td>0.166522</td>\n",
       "    </tr>\n",
       "    <tr>\n",
       "      <th>6</th>\n",
       "      <td>0.015625</td>\n",
       "      <td>0.166667</td>\n",
       "      <td>0.166594</td>\n",
       "    </tr>\n",
       "    <tr>\n",
       "      <th>7</th>\n",
       "      <td>0.007812</td>\n",
       "      <td>0.166667</td>\n",
       "      <td>0.166631</td>\n",
       "    </tr>\n",
       "    <tr>\n",
       "      <th>8</th>\n",
       "      <td>0.003906</td>\n",
       "      <td>0.166667</td>\n",
       "      <td>0.166649</td>\n",
       "    </tr>\n",
       "  </tbody>\n",
       "</table>\n",
       "</div>"
      ],
      "text/plain": [
       "          h        Q1        Q2\n",
       "0  1.000000  0.166925  0.162278\n",
       "1  0.500000  0.166731  0.164414\n",
       "2  0.250000  0.166683  0.165525\n",
       "3  0.125000  0.166671  0.166092\n",
       "4  0.062500  0.166668  0.166378\n",
       "5  0.031250  0.166667  0.166522\n",
       "6  0.015625  0.166667  0.166594\n",
       "7  0.007812  0.166667  0.166631\n",
       "8  0.003906  0.166667  0.166649"
      ]
     },
     "execution_count": 4,
     "metadata": {},
     "output_type": "execute_result"
    }
   ],
   "source": [
    "import numpy as np\n",
    "import pandas as pd\n",
    "\n",
    "# f(x) = sqrt(x)\n",
    "def f_sqrt(x):\n",
    "    return np.sqrt(x)\n",
    "\n",
    "# Values of a and range for k\n",
    "a = 9\n",
    "k_values = range(9)\n",
    "\n",
    "h_values_sqrt = []\n",
    "Q1_values_sqrt = []\n",
    "Q2_values_sqrt = []\n",
    "\n",
    "# Calculate Q1 and Q2 for each k for sqrt(x) at x = 9\n",
    "for k in k_values:\n",
    "    h = 1 / 2**k\n",
    "    Q1_sqrt = (f_sqrt(a + h) - f_sqrt(a - h)) / (2 * h)\n",
    "    Q2_sqrt = (f_sqrt(a + h) - f_sqrt(a)) / h\n",
    "\n",
    "    h_values_sqrt.append(h)\n",
    "    Q1_values_sqrt.append(Q1_sqrt)\n",
    "    Q2_values_sqrt.append(Q2_sqrt)\n",
    "\n",
    "results_table_sqrt = pd.DataFrame({\n",
    "    'h': h_values_sqrt,\n",
    "    'Q1': Q1_values_sqrt,\n",
    "    'Q2': Q2_values_sqrt\n",
    "})\n",
    "results_table_sqrt"
   ]
  },
  {
   "cell_type": "markdown",
   "id": "269c8bc7-eb41-495b-bb35-00adc2f8b568",
   "metadata": {},
   "source": [
    "# #4 (b)"
   ]
  },
  {
   "cell_type": "markdown",
   "id": "676b0df9-ff07-423f-a4d3-e0e4ed785074",
   "metadata": {},
   "source": [
    "For the function f(x)=x evaluated at x=9, the digits' stabilization in estimators Q1 and Q2 demonstrates differing patterns. Q1 exhibits a quick stabilization, achieving six decimal places of precision by h=0.015625, consistently showing a value of approximately 0.166667. In contrast, Q2 converges much more slowly and reaches a similar level of precision only at h=0.00390625, displaying a value of approximately 0.166649. This slower convergence illustrates Q2's less efficient approximation under these parameters."
   ]
  },
  {
   "cell_type": "markdown",
   "id": "db9f6219-aef0-46b2-affc-a392444f0cd4",
   "metadata": {},
   "source": [
    "# #4 (c)"
   ]
  },
  {
   "cell_type": "markdown",
   "id": "81e588c6-a914-43f1-89d9-a9071e3fc887",
   "metadata": {},
   "source": [
    "Q1 proves to be the more effective choice for the derivative of f(x)=x at x=9. It converges to the exact derivative value, f′(9)=16, faster and more accurately than Q2. Specifically, Q1 reaches an accuracy near six decimal places by h=0.015625. Meanwhile, Q2 only approaches this precision at h=0.00390625, indicating that Q1 achieves comparable accuracy at a larger h value."
   ]
  },
  {
   "cell_type": "markdown",
   "id": "7fac9fd8-7730-4b28-94fd-2bb1b04876c2",
   "metadata": {},
   "source": [
    "# #4 (d)\n",
    "\n",
    "Q1 proves to be better by quickly converging to the true derivative value. It starts with an underestimation and corrects upwards as h decreases, closely stabilizing near the true value. In contrast, Q2 begins with an overestimation and adjusts downward more slowly and less accurately, highlighted by its larger distance from the true value, especially at higher h values. This difference in how Q1 and Q2 approach the exact derivative demonstrates Q1's effectiveness."
   ]
  },
  {
   "cell_type": "code",
   "execution_count": 7,
   "id": "32e2fccf-cb33-4ab3-94b6-cbd7da07563f",
   "metadata": {},
   "outputs": [
    {
     "data": {
      "image/png": "[encoded data removed]",
      "text/plain": [
       "<Figure size 1000x600 with 1 Axes>"
      ]
     },
     "metadata": {},
     "output_type": "display_data"
    }
   ],
   "source": [
    "plt.figure(figsize=(10, 6))\n",
    "plt.plot(h_values_sqrt, Q1_values_sqrt, label='Q1 (sqrt(x) at x=9)', marker='o')\n",
    "plt.plot(h_values_sqrt, Q2_values_sqrt, label='Q2 (sqrt(x) at x=9)', marker='x')\n",
    "plt.axhline(y=1/6, color='r', linestyle='--', label='True derivative f\\'(9) = 1/6')\n",
    "plt.xscale('log')\n",
    "plt.yscale('linear')\n",
    "plt.xlabel('h (log scale)')\n",
    "plt.ylabel('Estimate Value')\n",
    "plt.title('Estimates Q1 and Q2 vs. h for f(x) = sqrt(x) at x=9')\n",
    "plt.legend()\n",
    "plt.grid(True)\n",
    "plt.show()"
   ]
  },
  {
   "cell_type": "markdown",
   "id": "dc487c93-6856-47fe-bf75-8068cb9c84f6",
   "metadata": {},
   "source": [
    "# #6 Pg 132\n",
    "\n",
    "y = 2^x = 0.69314718\n",
    "\n",
    "y = 3^x = 1.09861228\n",
    "\n",
    "y = 10^x = 2.30258509\n",
    "\n",
    "y = (1/2)^x = -0.69314718"
   ]
  },
  {
   "cell_type": "code",
   "execution_count": 8,
   "id": "e1407e35-7d52-4aaf-bf66-2cdbb8928fa6",
   "metadata": {},
   "outputs": [
    {
     "data": {
      "text/plain": [
       "([0.6937023549974286,\n",
       "  0.6931527309841479,\n",
       "  0.6931472360641178,\n",
       "  0.6931471811144618,\n",
       "  0.69314718055824],\n",
       " [1.100823570965711,\n",
       "  1.098634388284142,\n",
       "  1.0986125096629218,\n",
       "  1.0986122908784868,\n",
       "  1.0986122886857963],\n",
       " [2.322985885349429,\n",
       "  2.3027885662471714,\n",
       "  2.3025871276731724,\n",
       "  2.302585113340694,\n",
       "  2.302585093194587],\n",
       " [-0.6937023549974286,\n",
       "  -0.6931527309841479,\n",
       "  -0.6931472360641178,\n",
       "  -0.6931471811144618,\n",
       "  -0.69314718055824])"
      ]
     },
     "execution_count": 8,
     "metadata": {},
     "output_type": "execute_result"
    }
   ],
   "source": [
    "def exp_2x(x):\n",
    "    return 2 ** x\n",
    "\n",
    "def exp_3x(x):\n",
    "    return 3 ** x\n",
    "\n",
    "def exp_10x(x):\n",
    "    return 10 ** x\n",
    "\n",
    "def exp_half_x(x):\n",
    "    return (1/2) ** x\n",
    "# h_values from problem 2\n",
    "h_values = [0.1, 0.01, 0.001, 0.0001, 0.00001]\n",
    "\n",
    "# Central difference\n",
    "def central_difference(f, a, h):\n",
    "    return (f(a + h) - f(a - h)) / (2 * h)\n",
    "\n",
    "# Compute the central difference for each function at x = 0 for each h\n",
    "results_2x = [central_difference(exp_2x, 0, h) for h in h_values]\n",
    "results_3x = [central_difference(exp_3x, 0, h) for h in h_values]\n",
    "results_10x = [central_difference(exp_10x, 0, h) for h in h_values]\n",
    "results_half_x = [central_difference(exp_half_x, 0, h) for h in h_values]\n",
    "\n",
    "results_2x, results_3x, results_10x, results_half_x"
   ]
  },
  {
   "cell_type": "markdown",
   "id": "db417931-948b-46c0-899d-7cc5b79195f0",
   "metadata": {},
   "source": [
    "# #15 Pg 134\n",
    "\n",
    "f(a+k) given that f(a)=b and f'(a)=−3\n",
    "\n",
    "Using linear approximation: f(a+k) ≈ f(a)+ f'(a)* k\n",
    "\n",
    "f(a+k) ≈ b + (−3)k = b−3k\n",
    "\n",
    "b-3k "
   ]
  },
  {
   "cell_type": "markdown",
   "id": "fc2fa0a1-6988-4f04-831b-48b07a08e322",
   "metadata": {},
   "source": [
    "# #16 Pg 134"
   ]
  },
  {
   "cell_type": "markdown",
   "id": "0c143f9c-0238-4079-8d1f-5557c5a2948f",
   "metadata": {},
   "source": [
    "Expression 1 does not correctly represent any standard numerical differentiation formula due to the incorrect denominator. The central difference formula should have a denominator of 2h when using points a+h and a−h.\n",
    "\n",
    "Expression 2 is the central difference approximation of the derivative. It uses points symmetrically around a.\n",
    "\n",
    "Expression 3 is not a reasonable estimate of f'(a) because it incorrectly uses f(h) where a function value related directly to a should be used.\n",
    "\n",
    "Expression 4 does not correspond to a standard approximation formula for the derivative. The use of a+2h and a−h with a denominator of 3h is unconventional and would not provide a symmetrical approximation around a.\n",
    "\n",
    "From these findings, expression 2 shows provides a reasonable estimate of f'(a)."
   ]
  }
 ],
 "metadata": {
  "kernelspec": {
   "display_name": "Python 3 (ipykernel)",
   "language": "python",
   "name": "python3"
  },
  "language_info": {
   "codemirror_mode": {
    "name": "ipython",
    "version": 3
   },
   "file_extension": ".py",
   "mimetype": "text/x-python",
   "name": "python",
   "nbconvert_exporter": "python",
   "pygments_lexer": "ipython3",
   "version": "3.10.8"
  }
 },
 "nbformat": 4,
 "nbformat_minor": 5
}
